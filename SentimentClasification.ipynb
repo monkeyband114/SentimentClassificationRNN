{
 "cells": [
  {
   "cell_type": "markdown",
   "id": "83098bf5",
   "metadata": {},
   "source": [
    "## Read and Explore the dataset\n",
    "\n",
    "We are importing the librries Pandas an Numpy for basic manupulations we are also importiong the python package to use regular expressions"
   ]
  },
  {
   "cell_type": "code",
   "execution_count": 1,
   "id": "294e3bd3",
   "metadata": {},
   "outputs": [],
   "source": [
    "import pandas as pd\n",
    "import numpy as np\n",
    "import re "
   ]
  },
  {
   "cell_type": "markdown",
   "id": "1d2a7122",
   "metadata": {},
   "source": [
    "import the data set "
   ]
  },
  {
   "cell_type": "code",
   "execution_count": 3,
   "id": "30abc1c0",
   "metadata": {},
   "outputs": [],
   "source": [
    "df = pd.read_csv('1429_1.csv')"
   ]
  },
  {
   "cell_type": "code",
   "execution_count": 4,
   "id": "66dc893c",
   "metadata": {},
   "outputs": [
    {
     "data": {
      "text/plain": [
       "(34660, 21)"
      ]
     },
     "execution_count": 4,
     "metadata": {},
     "output_type": "execute_result"
    }
   ],
   "source": [
    "df.shape"
   ]
  },
  {
   "cell_type": "code",
   "execution_count": 5,
   "id": "0958778e",
   "metadata": {},
   "outputs": [
    {
     "data": {
      "text/plain": [
       "id                                                   AVqkIhwDv8e3D1O-lebb\n",
       "name                    All-New Fire HD 8 Tablet, 8 HD Display, Wi-Fi,...\n",
       "asins                                                          B01AHB9CN2\n",
       "brand                                                              Amazon\n",
       "categories              Electronics,iPad & Tablets,All Tablets,Fire Ta...\n",
       "keys                    841667104676,amazon/53004484,amazon/b01ahb9cn2...\n",
       "manufacturer                                                       Amazon\n",
       "reviews.date                                     2017-01-13T00:00:00.000Z\n",
       "reviews.dateAdded                                    2017-07-03T23:33:15Z\n",
       "reviews.dateSeen        2017-06-07T09:04:00.000Z,2017-04-30T00:45:00.000Z\n",
       "reviews.didPurchase                                                   NaN\n",
       "reviews.doRecommend                                                  True\n",
       "reviews.id                                                            NaN\n",
       "reviews.numHelpful                                                    0.0\n",
       "reviews.rating                                                        5.0\n",
       "reviews.sourceURLs      http://reviews.bestbuy.com/3545/5620406/review...\n",
       "reviews.text            This product so far has not disappointed. My c...\n",
       "reviews.title                                                      Kindle\n",
       "reviews.userCity                                                      NaN\n",
       "reviews.userProvince                                                  NaN\n",
       "reviews.username                                                  Adapter\n",
       "Name: 0, dtype: object"
      ]
     },
     "execution_count": 5,
     "metadata": {},
     "output_type": "execute_result"
    }
   ],
   "source": [
    "df.iloc[0]"
   ]
  },
  {
   "cell_type": "code",
   "execution_count": null,
   "id": "96347132",
   "metadata": {},
   "outputs": [],
   "source": []
  },
  {
   "cell_type": "code",
   "execution_count": 6,
   "id": "0a0147dc",
   "metadata": {},
   "outputs": [
    {
     "name": "stdout",
     "output_type": "stream",
     "text": [
      "4.0\n",
      "I've had my Fire HD 8 two weeks now and I love it. This tablet is a great value.We are Prime Members and that is where this tablet SHINES. I love being able to easily access all of the Prime content as well as movies you can download and watch laterThis has a 1280/800 screen which has some really nice look to it its nice and crisp and very bright infact it is brighter then the ipad pro costing $900 base model. The build on this fire is INSANELY AWESOME running at only 7.7mm thick and the smooth glossy feel on the back it is really amazing to hold its like the futuristic tab in ur hands.\n"
     ]
    }
   ],
   "source": [
    "print(df.iloc[3][\"reviews.rating\"])\n",
    "print(df.iloc[3][\"reviews.text\"])"
   ]
  },
  {
   "cell_type": "markdown",
   "id": "2373bfe2",
   "metadata": {},
   "source": [
    "## Data Manipulation"
   ]
  },
  {
   "cell_type": "code",
   "execution_count": 7,
   "id": "b04cdb93",
   "metadata": {},
   "outputs": [],
   "source": [
    "review_df = df[[\"reviews.text\", \"reviews.rating\"]]\n",
    "review_df.columns = [\"review\", \"ratings\" ]"
   ]
  },
  {
   "cell_type": "code",
   "execution_count": 8,
   "id": "6800ec44",
   "metadata": {},
   "outputs": [
    {
     "data": {
      "text/html": [
       "<div>\n",
       "<style scoped>\n",
       "    .dataframe tbody tr th:only-of-type {\n",
       "        vertical-align: middle;\n",
       "    }\n",
       "\n",
       "    .dataframe tbody tr th {\n",
       "        vertical-align: top;\n",
       "    }\n",
       "\n",
       "    .dataframe thead th {\n",
       "        text-align: right;\n",
       "    }\n",
       "</style>\n",
       "<table border=\"1\" class=\"dataframe\">\n",
       "  <thead>\n",
       "    <tr style=\"text-align: right;\">\n",
       "      <th></th>\n",
       "      <th>review</th>\n",
       "      <th>ratings</th>\n",
       "    </tr>\n",
       "  </thead>\n",
       "  <tbody>\n",
       "    <tr>\n",
       "      <th>0</th>\n",
       "      <td>This product so far has not disappointed. My c...</td>\n",
       "      <td>5.0</td>\n",
       "    </tr>\n",
       "    <tr>\n",
       "      <th>1</th>\n",
       "      <td>great for beginner or experienced person. Boug...</td>\n",
       "      <td>5.0</td>\n",
       "    </tr>\n",
       "    <tr>\n",
       "      <th>2</th>\n",
       "      <td>Inexpensive tablet for him to use and learn on...</td>\n",
       "      <td>5.0</td>\n",
       "    </tr>\n",
       "    <tr>\n",
       "      <th>3</th>\n",
       "      <td>I've had my Fire HD 8 two weeks now and I love...</td>\n",
       "      <td>4.0</td>\n",
       "    </tr>\n",
       "    <tr>\n",
       "      <th>4</th>\n",
       "      <td>I bought this for my grand daughter when she c...</td>\n",
       "      <td>5.0</td>\n",
       "    </tr>\n",
       "  </tbody>\n",
       "</table>\n",
       "</div>"
      ],
      "text/plain": [
       "                                              review  ratings\n",
       "0  This product so far has not disappointed. My c...      5.0\n",
       "1  great for beginner or experienced person. Boug...      5.0\n",
       "2  Inexpensive tablet for him to use and learn on...      5.0\n",
       "3  I've had my Fire HD 8 two weeks now and I love...      4.0\n",
       "4  I bought this for my grand daughter when she c...      5.0"
      ]
     },
     "execution_count": 8,
     "metadata": {},
     "output_type": "execute_result"
    }
   ],
   "source": [
    "review_df.head()"
   ]
  },
  {
   "cell_type": "code",
   "execution_count": 9,
   "id": "1658d7c2",
   "metadata": {},
   "outputs": [
    {
     "data": {
      "text/plain": [
       "review      1\n",
       "ratings    33\n",
       "dtype: int64"
      ]
     },
     "execution_count": 9,
     "metadata": {},
     "output_type": "execute_result"
    }
   ],
   "source": [
    "review_df.isnull().sum()"
   ]
  },
  {
   "cell_type": "code",
   "execution_count": null,
   "id": "6c372204",
   "metadata": {},
   "outputs": [],
   "source": []
  },
  {
   "cell_type": "code",
   "execution_count": 10,
   "id": "a6ccbc2d",
   "metadata": {},
   "outputs": [
    {
     "name": "stderr",
     "output_type": "stream",
     "text": [
      "C:\\Users\\MICHEAL VOKE\\python\\lib\\site-packages\\pandas\\util\\_decorators.py:311: SettingWithCopyWarning: \n",
      "A value is trying to be set on a copy of a slice from a DataFrame\n",
      "\n",
      "See the caveats in the documentation: https://pandas.pydata.org/pandas-docs/stable/user_guide/indexing.html#returning-a-view-versus-a-copy\n",
      "  return func(*args, **kwargs)\n"
     ]
    }
   ],
   "source": [
    "review_df.dropna(inplace=True)"
   ]
  },
  {
   "cell_type": "code",
   "execution_count": 11,
   "id": "af3f596a",
   "metadata": {},
   "outputs": [
    {
     "data": {
      "text/plain": [
       "(34626, 2)"
      ]
     },
     "execution_count": 11,
     "metadata": {},
     "output_type": "execute_result"
    }
   ],
   "source": [
    "review_df.shape"
   ]
  },
  {
   "cell_type": "code",
   "execution_count": 12,
   "id": "b3c831c0",
   "metadata": {},
   "outputs": [],
   "source": [
    "def sentiments(rating):\n",
    "    if (rating == 5)or (rating == 4):\n",
    "        return \"postive\"\n",
    "    elif rating == 3:\n",
    "        return \"neutral\" \n",
    "    elif (rating == 2) or (rating == 1):\n",
    "        return \"negative\" \n",
    "    "
   ]
  },
  {
   "cell_type": "code",
   "execution_count": 13,
   "id": "8703067f",
   "metadata": {},
   "outputs": [
    {
     "name": "stderr",
     "output_type": "stream",
     "text": [
      "C:\\Users\\MICHEA~1\\AppData\\Local\\Temp/ipykernel_16660/3015110667.py:1: SettingWithCopyWarning: \n",
      "A value is trying to be set on a copy of a slice from a DataFrame.\n",
      "Try using .loc[row_indexer,col_indexer] = value instead\n",
      "\n",
      "See the caveats in the documentation: https://pandas.pydata.org/pandas-docs/stable/user_guide/indexing.html#returning-a-view-versus-a-copy\n",
      "  review_df[\"sentiment\"] = review_df[\"ratings\"].apply(sentiments)\n"
     ]
    }
   ],
   "source": [
    "review_df[\"sentiment\"] = review_df[\"ratings\"].apply(sentiments)"
   ]
  },
  {
   "cell_type": "code",
   "execution_count": 14,
   "id": "3c08f1d1",
   "metadata": {},
   "outputs": [
    {
     "data": {
      "text/html": [
       "<div>\n",
       "<style scoped>\n",
       "    .dataframe tbody tr th:only-of-type {\n",
       "        vertical-align: middle;\n",
       "    }\n",
       "\n",
       "    .dataframe tbody tr th {\n",
       "        vertical-align: top;\n",
       "    }\n",
       "\n",
       "    .dataframe thead th {\n",
       "        text-align: right;\n",
       "    }\n",
       "</style>\n",
       "<table border=\"1\" class=\"dataframe\">\n",
       "  <thead>\n",
       "    <tr style=\"text-align: right;\">\n",
       "      <th></th>\n",
       "      <th>review</th>\n",
       "      <th>ratings</th>\n",
       "      <th>sentiment</th>\n",
       "    </tr>\n",
       "  </thead>\n",
       "  <tbody>\n",
       "    <tr>\n",
       "      <th>0</th>\n",
       "      <td>I like the fact that I don't have to carry boo...</td>\n",
       "      <td>5.0</td>\n",
       "      <td>postive</td>\n",
       "    </tr>\n",
       "    <tr>\n",
       "      <th>1</th>\n",
       "      <td>Love Alexa. I have 3 echoes now and 2 dots. I ...</td>\n",
       "      <td>5.0</td>\n",
       "      <td>postive</td>\n",
       "    </tr>\n",
       "    <tr>\n",
       "      <th>2</th>\n",
       "      <td>I like my ECHO, she however will talk on her o...</td>\n",
       "      <td>4.0</td>\n",
       "      <td>postive</td>\n",
       "    </tr>\n",
       "    <tr>\n",
       "      <th>3</th>\n",
       "      <td>Clunky and full of ads. Ok for my kids to use ...</td>\n",
       "      <td>2.0</td>\n",
       "      <td>negative</td>\n",
       "    </tr>\n",
       "    <tr>\n",
       "      <th>4</th>\n",
       "      <td>Awesome product, works great. Good for listeni...</td>\n",
       "      <td>5.0</td>\n",
       "      <td>postive</td>\n",
       "    </tr>\n",
       "    <tr>\n",
       "      <th>5</th>\n",
       "      <td>Everyone should have one. Awesome!! Just ask A...</td>\n",
       "      <td>5.0</td>\n",
       "      <td>postive</td>\n",
       "    </tr>\n",
       "    <tr>\n",
       "      <th>6</th>\n",
       "      <td>This is a wonderful device. I love the extra c...</td>\n",
       "      <td>5.0</td>\n",
       "      <td>postive</td>\n",
       "    </tr>\n",
       "    <tr>\n",
       "      <th>7</th>\n",
       "      <td>The Charger is not lasting, Screen is ok,Funct...</td>\n",
       "      <td>4.0</td>\n",
       "      <td>postive</td>\n",
       "    </tr>\n",
       "    <tr>\n",
       "      <th>8</th>\n",
       "      <td>I purchased this item on the recommendation of...</td>\n",
       "      <td>1.0</td>\n",
       "      <td>negative</td>\n",
       "    </tr>\n",
       "    <tr>\n",
       "      <th>9</th>\n",
       "      <td>Great to group all your program app into one d...</td>\n",
       "      <td>5.0</td>\n",
       "      <td>postive</td>\n",
       "    </tr>\n",
       "  </tbody>\n",
       "</table>\n",
       "</div>"
      ],
      "text/plain": [
       "                                              review  ratings sentiment\n",
       "0  I like the fact that I don't have to carry boo...      5.0   postive\n",
       "1  Love Alexa. I have 3 echoes now and 2 dots. I ...      5.0   postive\n",
       "2  I like my ECHO, she however will talk on her o...      4.0   postive\n",
       "3  Clunky and full of ads. Ok for my kids to use ...      2.0  negative\n",
       "4  Awesome product, works great. Good for listeni...      5.0   postive\n",
       "5  Everyone should have one. Awesome!! Just ask A...      5.0   postive\n",
       "6  This is a wonderful device. I love the extra c...      5.0   postive\n",
       "7  The Charger is not lasting, Screen is ok,Funct...      4.0   postive\n",
       "8  I purchased this item on the recommendation of...      1.0  negative\n",
       "9  Great to group all your program app into one d...      5.0   postive"
      ]
     },
     "execution_count": 14,
     "metadata": {},
     "output_type": "execute_result"
    }
   ],
   "source": [
    "review_df.sample(10, random_state = 86, ignore_index=True)"
   ]
  },
  {
   "cell_type": "code",
   "execution_count": 15,
   "id": "e253cbaf",
   "metadata": {},
   "outputs": [
    {
     "name": "stdout",
     "output_type": "stream",
     "text": [
      "['postive' 'postive' 'postive' 'postive' 'postive']\n",
      "\n",
      "\n",
      "['This product so far has not disappointed. My children love to use it and I like the ability to monitor control what content they see with ease.'\n",
      " 'great for beginner or experienced person. Bought as a gift and she loves it'\n",
      " 'Inexpensive tablet for him to use and learn on, step up from the NABI. He was thrilled with it, learn how to Skype on it already...'\n",
      " \"I've had my Fire HD 8 two weeks now and I love it. This tablet is a great value.We are Prime Members and that is where this tablet SHINES. I love being able to easily access all of the Prime content as well as movies you can download and watch laterThis has a 1280/800 screen which has some really nice look to it its nice and crisp and very bright infact it is brighter then the ipad pro costing $900 base model. The build on this fire is INSANELY AWESOME running at only 7.7mm thick and the smooth glossy feel on the back it is really amazing to hold its like the futuristic tab in ur hands.\"\n",
      " 'I bought this for my grand daughter when she comes over to visit. I set it up with her as the user, entered her age and name and now Amazon makes sure that she only accesses sites and content that are appropriate to her age. Simple to do and she loves the capabilities. I also bought and installed a 64gig SD card which gives this little tablet plenty of storage. For the price I think this tablet is best one out there. You can spend hundreds of dollars more for additional speed and capacity but when it comes to the basics this tablets does everything that most people will ever need at a fraction of the cost.']\n"
     ]
    }
   ],
   "source": [
    "sentiments = review_df[\"sentiment\"].values\n",
    "reviews = review_df[\"review\"].values\n",
    "print(sentiments[0:5])\n",
    "print(\"\\n\")\n",
    "print(reviews[0:5])"
   ]
  },
  {
   "cell_type": "markdown",
   "id": "557534f7",
   "metadata": {},
   "source": [
    "## Convert text categories into one-hot encoded vector\n",
    "we are importing keras utills here this will be needed to convert the labels to one-hot encoded vectors. We'll use the function 'to_categorical' from this library to do this."
   ]
  },
  {
   "cell_type": "code",
   "execution_count": 16,
   "id": "22caf8cd",
   "metadata": {},
   "outputs": [],
   "source": [
    "import tensorflow.keras.utils as ku"
   ]
  },
  {
   "cell_type": "markdown",
   "id": "c426de8f",
   "metadata": {},
   "source": [
    "Keras to-categorical function takes numerical argumenr "
   ]
  },
  {
   "cell_type": "code",
   "execution_count": 17,
   "id": "e13c410f",
   "metadata": {},
   "outputs": [],
   "source": [
    "def encode_sentiments(sentiment):\n",
    "    if sentiment == \"negative\":\n",
    "        return 0\n",
    "    elif sentiment == \"neutral\":\n",
    "        return 1\n",
    "    elif sentiment == \"postive\":\n",
    "        return 2\n",
    "    "
   ]
  },
  {
   "cell_type": "code",
   "execution_count": 18,
   "id": "fb06841f",
   "metadata": {},
   "outputs": [],
   "source": [
    "label_encoding = {0: 'negative', 1:'neutral', 2:'postive'}"
   ]
  },
  {
   "cell_type": "code",
   "execution_count": 19,
   "id": "5eb07e65",
   "metadata": {},
   "outputs": [],
   "source": [
    "sentiments_encoded = [encode_sentiments(sentiment) for sentiment in sentiments]"
   ]
  },
  {
   "cell_type": "code",
   "execution_count": 20,
   "id": "64d0e50f",
   "metadata": {},
   "outputs": [
    {
     "name": "stdout",
     "output_type": "stream",
     "text": [
      "['postive' 'postive' 'postive' 'postive' 'postive' 'postive' 'postive'\n",
      " 'postive' 'postive' 'postive']\n",
      "[2, 2, 2, 2, 2, 2, 2, 2, 2, 2]\n"
     ]
    }
   ],
   "source": [
    "print(sentiments[0:10])\n",
    "print(sentiments_encoded[0:10])"
   ]
  },
  {
   "cell_type": "code",
   "execution_count": 21,
   "id": "56aba789",
   "metadata": {},
   "outputs": [],
   "source": [
    "labels = ku.to_categorical(sentiments_encoded, num_classes = 3)"
   ]
  },
  {
   "cell_type": "code",
   "execution_count": 22,
   "id": "30061a01",
   "metadata": {},
   "outputs": [
    {
     "name": "stdout",
     "output_type": "stream",
     "text": [
      "[[0. 0. 1.]\n",
      " [0. 0. 1.]\n",
      " [0. 0. 1.]\n",
      " ...\n",
      " [1. 0. 0.]\n",
      " [1. 0. 0.]\n",
      " [1. 0. 0.]]\n"
     ]
    }
   ],
   "source": [
    "print(labels)"
   ]
  },
  {
   "cell_type": "markdown",
   "id": "7619c864",
   "metadata": {},
   "source": [
    "## Cleaning of the review texts\n",
    "We'll use regular expression extensively for text preprocessing. \n",
    "well use the function \"re.sub(...)\" from re package the package subtitutes a pattern by some other patterns in a text"
   ]
  },
  {
   "cell_type": "code",
   "execution_count": null,
   "id": "c301bcea",
   "metadata": {},
   "outputs": [],
   "source": []
  },
  {
   "cell_type": "code",
   "execution_count": 23,
   "id": "5fc544e5",
   "metadata": {},
   "outputs": [
    {
     "name": "stdout",
     "output_type": "stream",
     "text": [
      "i am really really impressed by this prodoct\n",
      "i am very very impressed by this prodoct\n"
     ]
    }
   ],
   "source": [
    "test_str = \"i am really really impressed by this prodoct\"\n",
    "print(test_str)\n",
    "old_pattern = \"really\"\n",
    "new_pattern = \"very\"\n",
    "new_str = re.sub(old_pattern, new_pattern, test_str)\n",
    "print(new_str)\n"
   ]
  },
  {
   "cell_type": "code",
   "execution_count": 24,
   "id": "6c52e999",
   "metadata": {},
   "outputs": [
    {
     "name": "stdout",
     "output_type": "stream",
     "text": [
      "Python 3.8\n",
      "Python <digit>.<digit>\n"
     ]
    }
   ],
   "source": [
    "test_str = \"Python 3.8\"\n",
    "print(test_str)\n",
    "old_pattern = r'\\d'\n",
    "new_pattern = '<digit>'\n",
    "new_str = re.sub(old_pattern, new_pattern, test_str)\n",
    "print(new_str)"
   ]
  },
  {
   "cell_type": "markdown",
   "id": "3f087534",
   "metadata": {},
   "source": [
    "## Remove hyperlinks"
   ]
  },
  {
   "cell_type": "code",
   "execution_count": 25,
   "id": "7b25ca8a",
   "metadata": {},
   "outputs": [
    {
     "name": "stdout",
     "output_type": "stream",
     "text": [
      "Visit https://www.geeksforgeeks.org/python-pandas-dataframe-loc and other locations\n",
      "Visit  and other locations\n"
     ]
    }
   ],
   "source": [
    "test_str = \"Visit https://www.geeksforgeeks.org/python-pandas-dataframe-loc and other locations\"\n",
    "print(test_str)\n",
    "rem_pattern = r'http\\S+'\n",
    "new_str = re.sub(rem_pattern, \"\", test_str)\n",
    "print(new_str)"
   ]
  },
  {
   "cell_type": "code",
   "execution_count": 26,
   "id": "8678d59d",
   "metadata": {},
   "outputs": [],
   "source": [
    "def remove_hyperlinks(text):\n",
    "    pattern_for_hyperlink = r'http\\S+'\n",
    "    return re.sub(pattern_for_hyperlink, \"\", text)"
   ]
  },
  {
   "cell_type": "code",
   "execution_count": 27,
   "id": "8277e7dc",
   "metadata": {},
   "outputs": [],
   "source": [
    "reviews = [remove_hyperlinks(review) for review in reviews ]"
   ]
  },
  {
   "cell_type": "code",
   "execution_count": 28,
   "id": "b52f9c37",
   "metadata": {},
   "outputs": [
    {
     "data": {
      "text/plain": [
       "['This product so far has not disappointed. My children love to use it and I like the ability to monitor control what content they see with ease.',\n",
       " 'great for beginner or experienced person. Bought as a gift and she loves it',\n",
       " 'Inexpensive tablet for him to use and learn on, step up from the NABI. He was thrilled with it, learn how to Skype on it already...',\n",
       " \"I've had my Fire HD 8 two weeks now and I love it. This tablet is a great value.We are Prime Members and that is where this tablet SHINES. I love being able to easily access all of the Prime content as well as movies you can download and watch laterThis has a 1280/800 screen which has some really nice look to it its nice and crisp and very bright infact it is brighter then the ipad pro costing $900 base model. The build on this fire is INSANELY AWESOME running at only 7.7mm thick and the smooth glossy feel on the back it is really amazing to hold its like the futuristic tab in ur hands.\",\n",
       " 'I bought this for my grand daughter when she comes over to visit. I set it up with her as the user, entered her age and name and now Amazon makes sure that she only accesses sites and content that are appropriate to her age. Simple to do and she loves the capabilities. I also bought and installed a 64gig SD card which gives this little tablet plenty of storage. For the price I think this tablet is best one out there. You can spend hundreds of dollars more for additional speed and capacity but when it comes to the basics this tablets does everything that most people will ever need at a fraction of the cost.']"
      ]
     },
     "execution_count": 28,
     "metadata": {},
     "output_type": "execute_result"
    }
   ],
   "source": [
    "reviews[0:5]"
   ]
  },
  {
   "cell_type": "markdown",
   "id": "73213c5c",
   "metadata": {},
   "source": [
    "### Expand Contrated words"
   ]
  },
  {
   "cell_type": "code",
   "execution_count": 29,
   "id": "12f0c389",
   "metadata": {},
   "outputs": [],
   "source": [
    "# create a function to expand word \n",
    "def remove_cont_words(text):\n",
    "    text = re.sub(r\"won't\", \"will not\", text)\n",
    "    text = re.sub(r\"can\\'t\", \"can not\", text)\n",
    "    text = re.sub(r\"n\\'t\", \" not\", text)\n",
    "    text = re.sub(r\"\\'re\", \" are\", text)\n",
    "    text = re.sub(r\"\\'s\", \" is\", text)\n",
    "    text = re.sub(r\"\\d\", \" would\", text)\n",
    "    text = re.sub(r\"\\'ll\", \" will\", text)\n",
    "    text = re.sub(r\"\\'t\", \" not\", text)\n",
    "    text = re.sub(r\"\\'ve\", \" have\", text)\n",
    "    text = re.sub(r\"\\'m\", \" am\", text)\n",
    "    return text\n",
    "    \n"
   ]
  },
  {
   "cell_type": "code",
   "execution_count": 30,
   "id": "6d55f103",
   "metadata": {},
   "outputs": [
    {
     "name": "stdout",
     "output_type": "stream",
     "text": [
      "Even though we can't do it when we're speaking\n",
      "Even though we can not do it when we are speaking\n"
     ]
    }
   ],
   "source": [
    "test_str = \"Even though we can't do it when we're speaking\"\n",
    "print(test_str)\n",
    "print(remove_cont_words(test_str))\n"
   ]
  },
  {
   "cell_type": "code",
   "execution_count": 31,
   "id": "29763110",
   "metadata": {},
   "outputs": [],
   "source": [
    "reviews = [remove_cont_words(review) for review in reviews]"
   ]
  },
  {
   "cell_type": "code",
   "execution_count": 32,
   "id": "e5d2cd95",
   "metadata": {},
   "outputs": [
    {
     "data": {
      "text/plain": [
       "['This product so far has not disappointed. My children love to use it and I like the ability to monitor control what content they see with ease.',\n",
       " 'great for beginner or experienced person. Bought as a gift and she loves it',\n",
       " 'Inexpensive tablet for him to use and learn on, step up from the NABI. He was thrilled with it, learn how to Skype on it already...',\n",
       " 'I have had my Fire HD  would two weeks now and I love it. This tablet is a great value.We are Prime Members and that is where this tablet SHINES. I love being able to easily access all of the Prime content as well as movies you can download and watch laterThis has a  would would would would/ would would would screen which has some really nice look to it its nice and crisp and very bright infact it is brighter then the ipad pro costing $ would would would base model. The build on this fire is INSANELY AWESOME running at only  would. wouldmm thick and the smooth glossy feel on the back it is really amazing to hold its like the futuristic tab in ur hands.',\n",
       " 'I bought this for my grand daughter when she comes over to visit. I set it up with her as the user, entered her age and name and now Amazon makes sure that she only accesses sites and content that are appropriate to her age. Simple to do and she loves the capabilities. I also bought and installed a  would wouldgig SD card which gives this little tablet plenty of storage. For the price I think this tablet is best one out there. You can spend hundreds of dollars more for additional speed and capacity but when it comes to the basics this tablets does everything that most people will ever need at a fraction of the cost.']"
      ]
     },
     "execution_count": 32,
     "metadata": {},
     "output_type": "execute_result"
    }
   ],
   "source": [
    "reviews[0:5]"
   ]
  },
  {
   "cell_type": "code",
   "execution_count": 33,
   "id": "db71a44d",
   "metadata": {},
   "outputs": [],
   "source": [
    "def remove_non_letters(text):\n",
    "    text = re.sub(r'[^A-Za-z\\s]+', \"\", text)\n",
    "    return text"
   ]
  },
  {
   "cell_type": "code",
   "execution_count": 34,
   "id": "189591d5",
   "metadata": {},
   "outputs": [],
   "source": [
    "reviews = [remove_non_letters(review) for review in reviews]"
   ]
  },
  {
   "cell_type": "code",
   "execution_count": 35,
   "id": "3ca11313",
   "metadata": {},
   "outputs": [
    {
     "data": {
      "text/plain": [
       "['This product so far has not disappointed My children love to use it and I like the ability to monitor control what content they see with ease',\n",
       " 'great for beginner or experienced person Bought as a gift and she loves it',\n",
       " 'Inexpensive tablet for him to use and learn on step up from the NABI He was thrilled with it learn how to Skype on it already',\n",
       " 'I have had my Fire HD  would two weeks now and I love it This tablet is a great valueWe are Prime Members and that is where this tablet SHINES I love being able to easily access all of the Prime content as well as movies you can download and watch laterThis has a  would would would would would would would screen which has some really nice look to it its nice and crisp and very bright infact it is brighter then the ipad pro costing  would would would base model The build on this fire is INSANELY AWESOME running at only  would wouldmm thick and the smooth glossy feel on the back it is really amazing to hold its like the futuristic tab in ur hands',\n",
       " 'I bought this for my grand daughter when she comes over to visit I set it up with her as the user entered her age and name and now Amazon makes sure that she only accesses sites and content that are appropriate to her age Simple to do and she loves the capabilities I also bought and installed a  would wouldgig SD card which gives this little tablet plenty of storage For the price I think this tablet is best one out there You can spend hundreds of dollars more for additional speed and capacity but when it comes to the basics this tablets does everything that most people will ever need at a fraction of the cost']"
      ]
     },
     "execution_count": 35,
     "metadata": {},
     "output_type": "execute_result"
    }
   ],
   "source": [
    "reviews[0:5]"
   ]
  },
  {
   "cell_type": "code",
   "execution_count": 36,
   "id": "9791f808",
   "metadata": {},
   "outputs": [
    {
     "data": {
      "text/plain": [
       "['I', 'recomend', 'resolution', 'with', 'GB', 'of', 'RAM']"
      ]
     },
     "execution_count": 36,
     "metadata": {},
     "output_type": "execute_result"
    }
   ],
   "source": [
    "test_string = \"I recomend    resolution with GB of RAM\"\n",
    "test_string_list = test_string.split()\n",
    "test_string_list"
   ]
  },
  {
   "cell_type": "code",
   "execution_count": 37,
   "id": "91a8e404",
   "metadata": {},
   "outputs": [
    {
     "data": {
      "text/plain": [
       "'I recomend resolution with GB of RAM'"
      ]
     },
     "execution_count": 37,
     "metadata": {},
     "output_type": "execute_result"
    }
   ],
   "source": [
    "' '.join(test_string_list)"
   ]
  },
  {
   "cell_type": "code",
   "execution_count": 39,
   "id": "011ab1a3",
   "metadata": {},
   "outputs": [
    {
     "data": {
      "text/plain": [
       "'i do not want this prodoct'"
      ]
     },
     "execution_count": 39,
     "metadata": {},
     "output_type": "execute_result"
    }
   ],
   "source": [
    "test_string = \"     i do not want this prodoct    \"\n",
    "test_string.strip()"
   ]
  },
  {
   "cell_type": "code",
   "execution_count": 41,
   "id": "e0fc3585",
   "metadata": {},
   "outputs": [],
   "source": [
    " def remove_space_lowercase(text):\n",
    "        return ' '.join(text.split()).strip().lower()"
   ]
  },
  {
   "cell_type": "code",
   "execution_count": 42,
   "id": "6c12f648",
   "metadata": {},
   "outputs": [],
   "source": [
    "reviews = [remove_space_lowercase(review) for review in reviews]"
   ]
  },
  {
   "cell_type": "code",
   "execution_count": 43,
   "id": "79b933ab",
   "metadata": {},
   "outputs": [
    {
     "data": {
      "text/plain": [
       "['this product so far has not disappointed my children love to use it and i like the ability to monitor control what content they see with ease',\n",
       " 'great for beginner or experienced person bought as a gift and she loves it',\n",
       " 'inexpensive tablet for him to use and learn on step up from the nabi he was thrilled with it learn how to skype on it already',\n",
       " 'i have had my fire hd would two weeks now and i love it this tablet is a great valuewe are prime members and that is where this tablet shines i love being able to easily access all of the prime content as well as movies you can download and watch laterthis has a would would would would would would would screen which has some really nice look to it its nice and crisp and very bright infact it is brighter then the ipad pro costing would would would base model the build on this fire is insanely awesome running at only would wouldmm thick and the smooth glossy feel on the back it is really amazing to hold its like the futuristic tab in ur hands',\n",
       " 'i bought this for my grand daughter when she comes over to visit i set it up with her as the user entered her age and name and now amazon makes sure that she only accesses sites and content that are appropriate to her age simple to do and she loves the capabilities i also bought and installed a would wouldgig sd card which gives this little tablet plenty of storage for the price i think this tablet is best one out there you can spend hundreds of dollars more for additional speed and capacity but when it comes to the basics this tablets does everything that most people will ever need at a fraction of the cost']"
      ]
     },
     "execution_count": 43,
     "metadata": {},
     "output_type": "execute_result"
    }
   ],
   "source": [
    "reviews[0:5]"
   ]
  },
  {
   "cell_type": "code",
   "execution_count": 46,
   "id": "1d9a363f",
   "metadata": {},
   "outputs": [],
   "source": [
    "from tensorflow.keras.preprocessing.text import Tokenizer"
   ]
  },
  {
   "cell_type": "code",
   "execution_count": 47,
   "id": "22ed54f3",
   "metadata": {},
   "outputs": [],
   "source": [
    "VOCAB_SIZE = 30000\n",
    "UNK_TOK = '<UNK>'"
   ]
  },
  {
   "cell_type": "code",
   "execution_count": 48,
   "id": "11d5a133",
   "metadata": {},
   "outputs": [],
   "source": [
    "tokenizer = Tokenizer(num_words = VOCAB_SIZE, oov_token=UNK_TOK)"
   ]
  },
  {
   "cell_type": "code",
   "execution_count": 49,
   "id": "0225292d",
   "metadata": {},
   "outputs": [],
   "source": [
    "tokenizer.fit_on_texts(reviews)"
   ]
  },
  {
   "cell_type": "code",
   "execution_count": 50,
   "id": "1798198e",
   "metadata": {},
   "outputs": [],
   "source": [
    "sequences = tokenizer.texts_to_sequences(reviews)"
   ]
  },
  {
   "cell_type": "code",
   "execution_count": 51,
   "id": "3eebd192",
   "metadata": {},
   "outputs": [
    {
     "name": "stdout",
     "output_type": "stream",
     "text": [
      "[10, 47, 30, 155, 42, 14, 543, 11, 304, 26, 5, 22, 3, 4, 6, 44, 2, 402, 5, 1508, 210, 82, 314, 59, 256, 16, 415]\n",
      "[6, 17, 60, 11, 37, 257, 12, 205, 563, 112, 4, 6, 26, 3, 10, 18, 7, 9, 13, 7919, 38, 121, 750, 4, 21, 7, 417, 10, 18, 3553, 6, 26, 222, 131, 5, 313, 217, 41, 15, 2, 121, 314, 27, 72, 27, 136, 19, 28, 203, 4, 152, 7920, 42, 9, 12, 12, 12, 12, 12, 12, 12, 87, 135, 42, 126, 79, 105, 375, 5, 3, 113, 105, 4, 870, 4, 32, 512, 7921, 3, 7, 1828, 186, 2, 154, 1487, 4573, 12, 12, 12, 1320, 416, 2, 1058, 20, 10, 37, 7, 6078, 156, 871, 53, 90, 12, 3819, 2884, 4, 2, 791, 6079, 438, 20, 2, 204, 3, 7, 79, 187, 5, 381, 113, 44, 2, 4574, 654, 23, 2234, 462]\n"
     ]
    }
   ],
   "source": [
    "print(sequences[0])\n",
    "print(sequences[3])"
   ]
  },
  {
   "cell_type": "code",
   "execution_count": 53,
   "id": "b502f2a4",
   "metadata": {},
   "outputs": [],
   "source": [
    "from tensorflow.keras.preprocessing.sequence import pad_sequences"
   ]
  },
  {
   "cell_type": "code",
   "execution_count": 55,
   "id": "d3dce969",
   "metadata": {},
   "outputs": [],
   "source": [
    "MAX_LEN = 32 "
   ]
  },
  {
   "cell_type": "code",
   "execution_count": 56,
   "id": "a9ea2f13",
   "metadata": {},
   "outputs": [],
   "source": [
    "padded_sequences = np.array(pad_sequences(sequences, \n",
    "                                         maxlen=MAX_LEN,\n",
    "                                         padding='post',\n",
    "                                         truncating='post'))"
   ]
  },
  {
   "cell_type": "code",
   "execution_count": 57,
   "id": "8c432764",
   "metadata": {},
   "outputs": [
    {
     "name": "stdout",
     "output_type": "stream",
     "text": [
      "[  10   47   30  155   42   14  543   11  304   26    5   22    3    4\n",
      "    6   44    2  402    5 1508  210   82  314   59  256   16  415    0\n",
      "    0    0    0    0]\n",
      "[  13    8  783   54 1899  580   34   27    9   96    4   39   68    3\n",
      "    0    0    0    0    0    0    0    0    0    0    0    0    0    0\n",
      "    0    0    0    0]\n",
      "[ 461   18    8  307    5   22    4  430   20 1002   48   69    2 2117\n",
      "   93   25 1112   16    3  430  127    5 1744   20    3  298    0    0\n",
      "    0    0    0    0]\n"
     ]
    }
   ],
   "source": [
    "print(padded_sequences[0])\n",
    "print(padded_sequences[1])\n",
    "print(padded_sequences[2])"
   ]
  },
  {
   "cell_type": "markdown",
   "id": "6b1585fb",
   "metadata": {},
   "source": [
    "## Create the Model\n",
    "\n",
    "import sequential model form keras, we are makeing use of Soft max as oppoesed to sigmid Emddded , Bidirectional , Flatten SimpileRNN dense Layers form keras "
   ]
  },
  {
   "cell_type": "code",
   "execution_count": 58,
   "id": "222397a6",
   "metadata": {},
   "outputs": [],
   "source": [
    "from tensorflow.keras.models import Sequential\n",
    "from tensorflow.keras.layers import Embedding , Bidirectional, SimpleRNN, Flatten, Dense"
   ]
  },
  {
   "cell_type": "code",
   "execution_count": 60,
   "id": "7b88d290",
   "metadata": {},
   "outputs": [],
   "source": [
    "model = Sequential()\n",
    "model.add(Embedding(VOCAB_SIZE, 16, input_length=MAX_LEN))\n",
    "model.add(Bidirectional(SimpleRNN(64, return_sequences=True)))\n",
    "model.add(Bidirectional(SimpleRNN(64)))\n",
    "model.add(Flatten())\n",
    "model.add(Dense(24, activation='relu'))\n",
    "model.add(Dense(3, activation='softmax'))"
   ]
  },
  {
   "cell_type": "code",
   "execution_count": 61,
   "id": "7c2f85e9",
   "metadata": {},
   "outputs": [],
   "source": [
    "model.compile(optimizer='adam', loss='categorical_crossentropy', metrics= ['accuracy'])"
   ]
  },
  {
   "cell_type": "code",
   "execution_count": 62,
   "id": "00f4df14",
   "metadata": {},
   "outputs": [
    {
     "name": "stdout",
     "output_type": "stream",
     "text": [
      "Model: \"sequential_1\"\n",
      "_________________________________________________________________\n",
      " Layer (type)                Output Shape              Param #   \n",
      "=================================================================\n",
      " embedding_1 (Embedding)     (None, 32, 16)            480000    \n",
      "                                                                 \n",
      " bidirectional_2 (Bidirectio  (None, 32, 128)          10368     \n",
      " nal)                                                            \n",
      "                                                                 \n",
      " bidirectional_3 (Bidirectio  (None, 128)              24704     \n",
      " nal)                                                            \n",
      "                                                                 \n",
      " flatten_1 (Flatten)         (None, 128)               0         \n",
      "                                                                 \n",
      " dense_2 (Dense)             (None, 24)                3096      \n",
      "                                                                 \n",
      " dense_3 (Dense)             (None, 3)                 75        \n",
      "                                                                 \n",
      "=================================================================\n",
      "Total params: 518,243\n",
      "Trainable params: 518,243\n",
      "Non-trainable params: 0\n",
      "_________________________________________________________________\n"
     ]
    }
   ],
   "source": [
    "model.summary()"
   ]
  },
  {
   "cell_type": "code",
   "execution_count": 63,
   "id": "5093375d",
   "metadata": {},
   "outputs": [
    {
     "name": "stdout",
     "output_type": "stream",
     "text": [
      "Epoch 1/20\n",
      "866/866 [==============================] - 36s 37ms/step - loss: 0.2936 - accuracy: 0.9282 - val_loss: 0.2284 - val_accuracy: 0.9464\n",
      "Epoch 2/20\n",
      "866/866 [==============================] - 27s 31ms/step - loss: 0.2447 - accuracy: 0.9296 - val_loss: 0.2131 - val_accuracy: 0.9461\n",
      "Epoch 3/20\n",
      "866/866 [==============================] - 24s 27ms/step - loss: 0.2039 - accuracy: 0.9322 - val_loss: 0.2330 - val_accuracy: 0.9285\n",
      "Epoch 4/20\n",
      "866/866 [==============================] - 23s 27ms/step - loss: 0.1720 - accuracy: 0.9400 - val_loss: 0.2520 - val_accuracy: 0.9277\n",
      "Epoch 5/20\n",
      "866/866 [==============================] - 24s 28ms/step - loss: 0.1371 - accuracy: 0.9508 - val_loss: 0.2715 - val_accuracy: 0.9210\n",
      "Epoch 6/20\n",
      "866/866 [==============================] - 24s 28ms/step - loss: 0.1130 - accuracy: 0.9604 - val_loss: 0.3023 - val_accuracy: 0.9069\n",
      "Epoch 7/20\n",
      "866/866 [==============================] - 25s 29ms/step - loss: 0.0938 - accuracy: 0.9683 - val_loss: 0.3592 - val_accuracy: 0.9054\n",
      "Epoch 8/20\n",
      "866/866 [==============================] - 25s 29ms/step - loss: 0.0701 - accuracy: 0.9783 - val_loss: 0.3547 - val_accuracy: 0.9139\n",
      "Epoch 9/20\n",
      "866/866 [==============================] - 25s 29ms/step - loss: 0.0578 - accuracy: 0.9816 - val_loss: 0.3977 - val_accuracy: 0.9064\n",
      "Epoch 10/20\n",
      "866/866 [==============================] - 25s 29ms/step - loss: 0.0487 - accuracy: 0.9841 - val_loss: 0.4343 - val_accuracy: 0.9093\n",
      "Epoch 11/20\n",
      "866/866 [==============================] - 25s 29ms/step - loss: 0.0416 - accuracy: 0.9874 - val_loss: 0.4719 - val_accuracy: 0.8890\n",
      "Epoch 12/20\n",
      "866/866 [==============================] - 25s 29ms/step - loss: 0.0379 - accuracy: 0.9882 - val_loss: 0.4071 - val_accuracy: 0.9150\n",
      "Epoch 13/20\n",
      "866/866 [==============================] - 25s 29ms/step - loss: 0.0295 - accuracy: 0.9909 - val_loss: 0.5065 - val_accuracy: 0.8963\n",
      "Epoch 14/20\n",
      "866/866 [==============================] - 25s 29ms/step - loss: 0.0324 - accuracy: 0.9898 - val_loss: 0.4869 - val_accuracy: 0.8939\n",
      "Epoch 15/20\n",
      "866/866 [==============================] - 25s 29ms/step - loss: 0.0298 - accuracy: 0.9909 - val_loss: 0.4543 - val_accuracy: 0.8998\n",
      "Epoch 16/20\n",
      "866/866 [==============================] - 25s 29ms/step - loss: 0.0300 - accuracy: 0.9904 - val_loss: 0.4741 - val_accuracy: 0.8832\n",
      "Epoch 17/20\n",
      "866/866 [==============================] - 25s 29ms/step - loss: 0.0234 - accuracy: 0.9930 - val_loss: 0.4645 - val_accuracy: 0.9090\n",
      "Epoch 18/20\n",
      "866/866 [==============================] - 25s 29ms/step - loss: 0.0214 - accuracy: 0.9935 - val_loss: 0.4785 - val_accuracy: 0.9191\n",
      "Epoch 19/20\n",
      "866/866 [==============================] - 25s 29ms/step - loss: 0.0246 - accuracy: 0.9922 - val_loss: 0.5049 - val_accuracy: 0.9030\n",
      "Epoch 20/20\n",
      "866/866 [==============================] - 33s 38ms/step - loss: 0.0217 - accuracy: 0.9931 - val_loss: 0.5473 - val_accuracy: 0.8885\n"
     ]
    },
    {
     "data": {
      "text/plain": [
       "<keras.callbacks.History at 0x2541e73e670>"
      ]
     },
     "execution_count": 63,
     "metadata": {},
     "output_type": "execute_result"
    }
   ],
   "source": [
    "model.fit(padded_sequences, labels, epochs=20, validation_split=0.2)"
   ]
  },
  {
   "cell_type": "markdown",
   "id": "6530819d",
   "metadata": {},
   "source": [
    "## Sentiment Prediction Using Trained Model"
   ]
  },
  {
   "cell_type": "code",
   "execution_count": 65,
   "id": "d2c34864",
   "metadata": {},
   "outputs": [],
   "source": [
    "positive_sample = 'i gave this as a christmas gift to my inlaws husband and uncle they \\\n",
    "loved it and how easy they are to use with fantastic features'"
   ]
  },
  {
   "cell_type": "code",
   "execution_count": 66,
   "id": "103e5926",
   "metadata": {},
   "outputs": [],
   "source": [
    "sample_sequence = tokenizer.texts_to_sequences([positive_sample])[0]\n",
    "sample_sequence_padded = pad_sequences([sample_sequence], \n",
    "                                       maxlen=MAX_LEN, \n",
    "                                       padding='post', \n",
    "                                       truncating='post')"
   ]
  },
  {
   "cell_type": "code",
   "execution_count": 67,
   "id": "c6dc5630",
   "metadata": {},
   "outputs": [
    {
     "name": "stdout",
     "output_type": "stream",
     "text": [
      "[[0.001 0.    0.999]]\n"
     ]
    }
   ],
   "source": [
    "predictions = model.predict(sample_sequence_padded, verbose=0)\n",
    "print(np.round(predictions, 3))"
   ]
  },
  {
   "cell_type": "code",
   "execution_count": 68,
   "id": "18b96f06",
   "metadata": {},
   "outputs": [
    {
     "name": "stdout",
     "output_type": "stream",
     "text": [
      "Review: i gave this as a christmas gift to my inlaws husband and uncle they loved it and how easy they are to use with fantastic features\n",
      "Sentiment: postive\n"
     ]
    }
   ],
   "source": [
    "predicted_label = np.argmax(predictions, axis=1)[0]\n",
    "print(\"Review:\", positive_sample)\n",
    "print(\"Sentiment:\", label_encoding[predicted_label])"
   ]
  },
  {
   "cell_type": "code",
   "execution_count": 69,
   "id": "28e9b010",
   "metadata": {},
   "outputs": [],
   "source": [
    "negative_sample = 'if ads dont bother you then this may be a decent device purchased this \\\n",
    "for my kid and it was loaded down with so much spam it kept loading it up making \\\n",
    "it slow and laggy plus the carrasoul loadout makes it hard to navigate for kids \\\n",
    "not very kid friendly oh you can pay to remove the ads but it wont remove them all \\\n",
    "buy the samsung better everything'"
   ]
  },
  {
   "cell_type": "code",
   "execution_count": 70,
   "id": "28a8f2fb",
   "metadata": {},
   "outputs": [
    {
     "name": "stdout",
     "output_type": "stream",
     "text": [
      "Review: if ads dont bother you then this may be a decent device purchased this for my kid and it was loaded down with so much spam it kept loading it up making it slow and laggy plus the carrasoul loadout makes it hard to navigate for kids not very kid friendly oh you can pay to remove the ads but it wont remove them all buy the samsung better everything\n",
      "Sentiment: negative\n"
     ]
    }
   ],
   "source": [
    "sample_sequence = tokenizer.texts_to_sequences([negative_sample])[0]\n",
    "sample_sequence_padded = pad_sequences([sample_sequence], \n",
    "                                       maxlen=MAX_LEN, \n",
    "                                       padding='post', \n",
    "                                       truncating='post')\n",
    "predictions = model.predict(sample_sequence_padded, verbose=0)\n",
    "predicted_label = np.argmax(predictions, axis=1)[0]\n",
    "print(\"Review:\", negative_sample)\n",
    "print(\"Sentiment:\", label_encoding[predicted_label])"
   ]
  },
  {
   "cell_type": "code",
   "execution_count": null,
   "id": "00484d1a",
   "metadata": {},
   "outputs": [],
   "source": []
  },
  {
   "cell_type": "code",
   "execution_count": null,
   "id": "e34216eb",
   "metadata": {},
   "outputs": [],
   "source": []
  },
  {
   "cell_type": "code",
   "execution_count": null,
   "id": "5a4f9bde",
   "metadata": {},
   "outputs": [],
   "source": []
  },
  {
   "cell_type": "code",
   "execution_count": null,
   "id": "596358b8",
   "metadata": {},
   "outputs": [],
   "source": []
  },
  {
   "cell_type": "code",
   "execution_count": null,
   "id": "83881b9a",
   "metadata": {},
   "outputs": [],
   "source": []
  },
  {
   "cell_type": "code",
   "execution_count": null,
   "id": "91a7ce3b",
   "metadata": {},
   "outputs": [],
   "source": []
  },
  {
   "cell_type": "code",
   "execution_count": null,
   "id": "11e829d5",
   "metadata": {},
   "outputs": [],
   "source": []
  },
  {
   "cell_type": "code",
   "execution_count": null,
   "id": "2997a83d",
   "metadata": {},
   "outputs": [],
   "source": []
  },
  {
   "cell_type": "code",
   "execution_count": null,
   "id": "18b6490f",
   "metadata": {},
   "outputs": [],
   "source": []
  },
  {
   "cell_type": "code",
   "execution_count": null,
   "id": "3c60bf04",
   "metadata": {},
   "outputs": [],
   "source": []
  },
  {
   "cell_type": "code",
   "execution_count": null,
   "id": "3a27001f",
   "metadata": {},
   "outputs": [],
   "source": []
  },
  {
   "cell_type": "code",
   "execution_count": null,
   "id": "ad6c8d93",
   "metadata": {},
   "outputs": [],
   "source": []
  },
  {
   "cell_type": "code",
   "execution_count": null,
   "id": "5f76421d",
   "metadata": {},
   "outputs": [],
   "source": []
  },
  {
   "cell_type": "code",
   "execution_count": null,
   "id": "07de4a80",
   "metadata": {},
   "outputs": [],
   "source": []
  },
  {
   "cell_type": "code",
   "execution_count": null,
   "id": "38481bb7",
   "metadata": {},
   "outputs": [],
   "source": []
  },
  {
   "cell_type": "code",
   "execution_count": null,
   "id": "57cb81a1",
   "metadata": {},
   "outputs": [],
   "source": []
  },
  {
   "cell_type": "code",
   "execution_count": null,
   "id": "3cd749eb",
   "metadata": {},
   "outputs": [],
   "source": []
  },
  {
   "cell_type": "code",
   "execution_count": null,
   "id": "3941c13c",
   "metadata": {},
   "outputs": [],
   "source": []
  },
  {
   "cell_type": "code",
   "execution_count": null,
   "id": "5673ebd8",
   "metadata": {},
   "outputs": [],
   "source": []
  },
  {
   "cell_type": "code",
   "execution_count": null,
   "id": "9eba7fca",
   "metadata": {},
   "outputs": [],
   "source": []
  },
  {
   "cell_type": "code",
   "execution_count": null,
   "id": "5127cab6",
   "metadata": {},
   "outputs": [],
   "source": []
  },
  {
   "cell_type": "code",
   "execution_count": null,
   "id": "8d743da5",
   "metadata": {},
   "outputs": [],
   "source": []
  },
  {
   "cell_type": "code",
   "execution_count": null,
   "id": "6a7403d9",
   "metadata": {},
   "outputs": [],
   "source": []
  },
  {
   "cell_type": "code",
   "execution_count": null,
   "id": "962d57c3",
   "metadata": {},
   "outputs": [],
   "source": []
  },
  {
   "cell_type": "code",
   "execution_count": null,
   "id": "a1ab3bde",
   "metadata": {},
   "outputs": [],
   "source": []
  },
  {
   "cell_type": "code",
   "execution_count": null,
   "id": "4bfabd09",
   "metadata": {},
   "outputs": [],
   "source": []
  },
  {
   "cell_type": "code",
   "execution_count": null,
   "id": "05b86ab1",
   "metadata": {},
   "outputs": [],
   "source": []
  },
  {
   "cell_type": "code",
   "execution_count": null,
   "id": "9162e9dc",
   "metadata": {},
   "outputs": [],
   "source": []
  },
  {
   "cell_type": "code",
   "execution_count": null,
   "id": "434a0e95",
   "metadata": {},
   "outputs": [],
   "source": []
  },
  {
   "cell_type": "code",
   "execution_count": null,
   "id": "2d1c42c4",
   "metadata": {},
   "outputs": [],
   "source": []
  },
  {
   "cell_type": "code",
   "execution_count": null,
   "id": "79238ede",
   "metadata": {},
   "outputs": [],
   "source": []
  },
  {
   "cell_type": "code",
   "execution_count": null,
   "id": "ac411fc4",
   "metadata": {},
   "outputs": [],
   "source": []
  },
  {
   "cell_type": "code",
   "execution_count": null,
   "id": "34f5bfff",
   "metadata": {},
   "outputs": [],
   "source": []
  },
  {
   "cell_type": "code",
   "execution_count": null,
   "id": "c4aef9d3",
   "metadata": {},
   "outputs": [],
   "source": []
  },
  {
   "cell_type": "code",
   "execution_count": null,
   "id": "04f0b08a",
   "metadata": {},
   "outputs": [],
   "source": []
  },
  {
   "cell_type": "code",
   "execution_count": null,
   "id": "1fc4bff6",
   "metadata": {},
   "outputs": [],
   "source": []
  },
  {
   "cell_type": "code",
   "execution_count": null,
   "id": "48134e85",
   "metadata": {},
   "outputs": [],
   "source": []
  },
  {
   "cell_type": "code",
   "execution_count": null,
   "id": "c4ed30cb",
   "metadata": {},
   "outputs": [],
   "source": []
  },
  {
   "cell_type": "code",
   "execution_count": null,
   "id": "4e8de339",
   "metadata": {},
   "outputs": [],
   "source": []
  },
  {
   "cell_type": "code",
   "execution_count": null,
   "id": "7612843c",
   "metadata": {},
   "outputs": [],
   "source": []
  },
  {
   "cell_type": "code",
   "execution_count": null,
   "id": "156c47e1",
   "metadata": {},
   "outputs": [],
   "source": []
  },
  {
   "cell_type": "code",
   "execution_count": null,
   "id": "f3be17be",
   "metadata": {},
   "outputs": [],
   "source": []
  },
  {
   "cell_type": "code",
   "execution_count": null,
   "id": "cc83981b",
   "metadata": {},
   "outputs": [],
   "source": []
  },
  {
   "cell_type": "code",
   "execution_count": null,
   "id": "9745d6d7",
   "metadata": {},
   "outputs": [],
   "source": []
  },
  {
   "cell_type": "code",
   "execution_count": null,
   "id": "12b6b5c5",
   "metadata": {},
   "outputs": [],
   "source": []
  },
  {
   "cell_type": "code",
   "execution_count": null,
   "id": "e114b520",
   "metadata": {},
   "outputs": [],
   "source": []
  },
  {
   "cell_type": "code",
   "execution_count": null,
   "id": "bc61935c",
   "metadata": {},
   "outputs": [],
   "source": []
  },
  {
   "cell_type": "code",
   "execution_count": null,
   "id": "c91d5c24",
   "metadata": {},
   "outputs": [],
   "source": []
  },
  {
   "cell_type": "code",
   "execution_count": null,
   "id": "aff0e5bd",
   "metadata": {},
   "outputs": [],
   "source": []
  },
  {
   "cell_type": "code",
   "execution_count": null,
   "id": "afd7e787",
   "metadata": {},
   "outputs": [],
   "source": []
  },
  {
   "cell_type": "code",
   "execution_count": null,
   "id": "7ffd2501",
   "metadata": {},
   "outputs": [],
   "source": []
  },
  {
   "cell_type": "code",
   "execution_count": null,
   "id": "dd57b80b",
   "metadata": {},
   "outputs": [],
   "source": []
  },
  {
   "cell_type": "code",
   "execution_count": null,
   "id": "33db602b",
   "metadata": {},
   "outputs": [],
   "source": []
  },
  {
   "cell_type": "code",
   "execution_count": null,
   "id": "5fe7ce36",
   "metadata": {},
   "outputs": [],
   "source": []
  },
  {
   "cell_type": "code",
   "execution_count": null,
   "id": "d3d82425",
   "metadata": {},
   "outputs": [],
   "source": []
  },
  {
   "cell_type": "code",
   "execution_count": null,
   "id": "7ea3f3da",
   "metadata": {},
   "outputs": [],
   "source": []
  },
  {
   "cell_type": "code",
   "execution_count": null,
   "id": "28c18f62",
   "metadata": {},
   "outputs": [],
   "source": []
  },
  {
   "cell_type": "code",
   "execution_count": null,
   "id": "cefc41ce",
   "metadata": {},
   "outputs": [],
   "source": []
  },
  {
   "cell_type": "code",
   "execution_count": null,
   "id": "6c457ca4",
   "metadata": {},
   "outputs": [],
   "source": []
  },
  {
   "cell_type": "code",
   "execution_count": null,
   "id": "b433946c",
   "metadata": {},
   "outputs": [],
   "source": []
  },
  {
   "cell_type": "code",
   "execution_count": null,
   "id": "d654d6ac",
   "metadata": {},
   "outputs": [],
   "source": []
  },
  {
   "cell_type": "code",
   "execution_count": null,
   "id": "519bd874",
   "metadata": {},
   "outputs": [],
   "source": []
  },
  {
   "cell_type": "code",
   "execution_count": null,
   "id": "bcf74e3d",
   "metadata": {},
   "outputs": [],
   "source": []
  },
  {
   "cell_type": "code",
   "execution_count": null,
   "id": "c94a4eb1",
   "metadata": {},
   "outputs": [],
   "source": []
  },
  {
   "cell_type": "code",
   "execution_count": null,
   "id": "233a46ec",
   "metadata": {},
   "outputs": [],
   "source": []
  },
  {
   "cell_type": "code",
   "execution_count": null,
   "id": "73cc787c",
   "metadata": {},
   "outputs": [],
   "source": []
  },
  {
   "cell_type": "code",
   "execution_count": null,
   "id": "075729d7",
   "metadata": {},
   "outputs": [],
   "source": []
  },
  {
   "cell_type": "code",
   "execution_count": null,
   "id": "081ce4d6",
   "metadata": {},
   "outputs": [],
   "source": []
  },
  {
   "cell_type": "code",
   "execution_count": null,
   "id": "0fd4ac4a",
   "metadata": {},
   "outputs": [],
   "source": []
  },
  {
   "cell_type": "code",
   "execution_count": null,
   "id": "e992cd7c",
   "metadata": {},
   "outputs": [],
   "source": []
  },
  {
   "cell_type": "code",
   "execution_count": null,
   "id": "9ba05b68",
   "metadata": {},
   "outputs": [],
   "source": []
  },
  {
   "cell_type": "code",
   "execution_count": null,
   "id": "2d6679b3",
   "metadata": {},
   "outputs": [],
   "source": []
  },
  {
   "cell_type": "code",
   "execution_count": null,
   "id": "3adb55b6",
   "metadata": {},
   "outputs": [],
   "source": []
  },
  {
   "cell_type": "code",
   "execution_count": null,
   "id": "50a9b810",
   "metadata": {},
   "outputs": [],
   "source": []
  },
  {
   "cell_type": "code",
   "execution_count": null,
   "id": "fa91faa2",
   "metadata": {},
   "outputs": [],
   "source": []
  },
  {
   "cell_type": "code",
   "execution_count": null,
   "id": "ed1b348b",
   "metadata": {},
   "outputs": [],
   "source": []
  },
  {
   "cell_type": "code",
   "execution_count": null,
   "id": "65e4dfe8",
   "metadata": {},
   "outputs": [],
   "source": []
  },
  {
   "cell_type": "code",
   "execution_count": null,
   "id": "6671c488",
   "metadata": {},
   "outputs": [],
   "source": []
  },
  {
   "cell_type": "code",
   "execution_count": null,
   "id": "e6a57742",
   "metadata": {},
   "outputs": [],
   "source": []
  },
  {
   "cell_type": "code",
   "execution_count": null,
   "id": "f9381efc",
   "metadata": {},
   "outputs": [],
   "source": []
  },
  {
   "cell_type": "code",
   "execution_count": null,
   "id": "6ab2ca98",
   "metadata": {},
   "outputs": [],
   "source": []
  },
  {
   "cell_type": "code",
   "execution_count": null,
   "id": "145e9653",
   "metadata": {},
   "outputs": [],
   "source": []
  },
  {
   "cell_type": "code",
   "execution_count": null,
   "id": "352307f9",
   "metadata": {},
   "outputs": [],
   "source": []
  },
  {
   "cell_type": "code",
   "execution_count": null,
   "id": "b33e0bec",
   "metadata": {},
   "outputs": [],
   "source": []
  },
  {
   "cell_type": "code",
   "execution_count": null,
   "id": "e691da7b",
   "metadata": {},
   "outputs": [],
   "source": []
  },
  {
   "cell_type": "code",
   "execution_count": null,
   "id": "1222e8ed",
   "metadata": {},
   "outputs": [],
   "source": []
  },
  {
   "cell_type": "code",
   "execution_count": null,
   "id": "87fae908",
   "metadata": {},
   "outputs": [],
   "source": []
  },
  {
   "cell_type": "code",
   "execution_count": null,
   "id": "0ca0f6ab",
   "metadata": {},
   "outputs": [],
   "source": []
  },
  {
   "cell_type": "code",
   "execution_count": null,
   "id": "24b4a472",
   "metadata": {},
   "outputs": [],
   "source": []
  },
  {
   "cell_type": "code",
   "execution_count": null,
   "id": "a117dea0",
   "metadata": {},
   "outputs": [],
   "source": []
  },
  {
   "cell_type": "code",
   "execution_count": null,
   "id": "f88954bf",
   "metadata": {},
   "outputs": [],
   "source": []
  },
  {
   "cell_type": "code",
   "execution_count": null,
   "id": "62837b5b",
   "metadata": {},
   "outputs": [],
   "source": []
  },
  {
   "cell_type": "code",
   "execution_count": null,
   "id": "bc89712e",
   "metadata": {},
   "outputs": [],
   "source": []
  },
  {
   "cell_type": "code",
   "execution_count": null,
   "id": "1dd0c6e4",
   "metadata": {},
   "outputs": [],
   "source": []
  },
  {
   "cell_type": "code",
   "execution_count": null,
   "id": "868674f9",
   "metadata": {},
   "outputs": [],
   "source": []
  },
  {
   "cell_type": "code",
   "execution_count": null,
   "id": "44f807b4",
   "metadata": {},
   "outputs": [],
   "source": []
  },
  {
   "cell_type": "code",
   "execution_count": null,
   "id": "3831f0ad",
   "metadata": {},
   "outputs": [],
   "source": []
  },
  {
   "cell_type": "code",
   "execution_count": null,
   "id": "cc58f0b9",
   "metadata": {},
   "outputs": [],
   "source": []
  }
 ],
 "metadata": {
  "kernelspec": {
   "display_name": "Python 3 (ipykernel)",
   "language": "python",
   "name": "python3"
  },
  "language_info": {
   "codemirror_mode": {
    "name": "ipython",
    "version": 3
   },
   "file_extension": ".py",
   "mimetype": "text/x-python",
   "name": "python",
   "nbconvert_exporter": "python",
   "pygments_lexer": "ipython3",
   "version": "3.9.7"
  }
 },
 "nbformat": 4,
 "nbformat_minor": 5
}
